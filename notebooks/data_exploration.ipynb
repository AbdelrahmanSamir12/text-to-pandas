{
 "cells": [
  {
   "cell_type": "code",
   "execution_count": 2,
   "metadata": {},
   "outputs": [],
   "source": [
    "import pandas as pd \n",
    "import numpy as np "
   ]
  },
  {
   "cell_type": "code",
   "execution_count": 4,
   "metadata": {},
   "outputs": [],
   "source": [
    "path = '../data/raw/train.csv'\n",
    "path_test = '../data/processed/test_clean.csv'"
   ]
  },
  {
   "cell_type": "code",
   "execution_count": 7,
   "metadata": {},
   "outputs": [],
   "source": [
    "train = pd.read_csv(path)"
   ]
  },
  {
   "cell_type": "code",
   "execution_count": 15,
   "metadata": {},
   "outputs": [
    {
     "data": {
      "text/plain": [
       "\"Table Name: department (creation (object), department_id (object))\\n Table Name: management (department_id (object), head_id (object))\\n Table Name: head (head_id (object), born_state (object))\\nWhat are the distinct creation years of the departments managed by a secretary born in state 'Alabama'?\""
      ]
     },
     "execution_count": 15,
     "metadata": {},
     "output_type": "execute_result"
    }
   ],
   "source": [
    "train.iloc[5][\"Input\"]"
   ]
  },
  {
   "cell_type": "code",
   "execution_count": 13,
   "metadata": {},
   "outputs": [
    {
     "data": {
      "text/html": [
       "<div>\n",
       "<style scoped>\n",
       "    .dataframe tbody tr th:only-of-type {\n",
       "        vertical-align: middle;\n",
       "    }\n",
       "\n",
       "    .dataframe tbody tr th {\n",
       "        vertical-align: top;\n",
       "    }\n",
       "\n",
       "    .dataframe thead th {\n",
       "        text-align: right;\n",
       "    }\n",
       "</style>\n",
       "<table border=\"1\" class=\"dataframe\">\n",
       "  <thead>\n",
       "    <tr style=\"text-align: right;\">\n",
       "      <th></th>\n",
       "      <th>Input</th>\n",
       "      <th>Pandas Query</th>\n",
       "    </tr>\n",
       "  </thead>\n",
       "  <tbody>\n",
       "    <tr>\n",
       "      <th>0</th>\n",
       "      <td>Table Name: head (age (int64))\\nHow many heads...</td>\n",
       "      <td>count = head[head['age'] &gt; 56].shape[0]</td>\n",
       "    </tr>\n",
       "    <tr>\n",
       "      <th>1</th>\n",
       "      <td>Table Name: head (name (object), born_state (o...</td>\n",
       "      <td>result = head.sort_values(by='age', ascending=...</td>\n",
       "    </tr>\n",
       "    <tr>\n",
       "      <th>2</th>\n",
       "      <td>Table Name: department (budget_in_billions (in...</td>\n",
       "      <td>result = department['budget_in_billions'].agg(...</td>\n",
       "    </tr>\n",
       "    <tr>\n",
       "      <th>3</th>\n",
       "      <td>Table Name: department (num_employees (int64),...</td>\n",
       "      <td>result = department[(department['num_employees...</td>\n",
       "    </tr>\n",
       "    <tr>\n",
       "      <th>4</th>\n",
       "      <td>Table Name: head (name (object), born_state (o...</td>\n",
       "      <td>result = head[head['born_state'] &gt; 'california...</td>\n",
       "    </tr>\n",
       "    <tr>\n",
       "      <th>...</th>\n",
       "      <td>...</td>\n",
       "      <td>...</td>\n",
       "    </tr>\n",
       "    <tr>\n",
       "      <th>57504</th>\n",
       "      <td>Table Name: table_name_6 (venue (object), date...</td>\n",
       "      <td>result = table_name_6[table_name_6['date'] == ...</td>\n",
       "    </tr>\n",
       "    <tr>\n",
       "      <th>57505</th>\n",
       "      <td>Table Name: table_name_23 (driver (object), ti...</td>\n",
       "      <td>result = table_name_23[table_name_23['time_ret...</td>\n",
       "    </tr>\n",
       "    <tr>\n",
       "      <th>57506</th>\n",
       "      <td>Table Name: table_name_22 (grid (object), team...</td>\n",
       "      <td>result = table_name_22[table_name_22['team'] =...</td>\n",
       "    </tr>\n",
       "    <tr>\n",
       "      <th>57507</th>\n",
       "      <td>Table Name: table_name_17 (grid (object), car_...</td>\n",
       "      <td>result = table_name_17[table_name_17['car_no']...</td>\n",
       "    </tr>\n",
       "    <tr>\n",
       "      <th>57508</th>\n",
       "      <td>Table Name: table_name_53 (grid (object), time...</td>\n",
       "      <td>result = table_name_53[table_name_53['time_ret...</td>\n",
       "    </tr>\n",
       "  </tbody>\n",
       "</table>\n",
       "<p>57509 rows × 2 columns</p>\n",
       "</div>"
      ],
      "text/plain": [
       "                                                   Input  \\\n",
       "0      Table Name: head (age (int64))\\nHow many heads...   \n",
       "1      Table Name: head (name (object), born_state (o...   \n",
       "2      Table Name: department (budget_in_billions (in...   \n",
       "3      Table Name: department (num_employees (int64),...   \n",
       "4      Table Name: head (name (object), born_state (o...   \n",
       "...                                                  ...   \n",
       "57504  Table Name: table_name_6 (venue (object), date...   \n",
       "57505  Table Name: table_name_23 (driver (object), ti...   \n",
       "57506  Table Name: table_name_22 (grid (object), team...   \n",
       "57507  Table Name: table_name_17 (grid (object), car_...   \n",
       "57508  Table Name: table_name_53 (grid (object), time...   \n",
       "\n",
       "                                            Pandas Query  \n",
       "0                count = head[head['age'] > 56].shape[0]  \n",
       "1      result = head.sort_values(by='age', ascending=...  \n",
       "2      result = department['budget_in_billions'].agg(...  \n",
       "3      result = department[(department['num_employees...  \n",
       "4      result = head[head['born_state'] > 'california...  \n",
       "...                                                  ...  \n",
       "57504  result = table_name_6[table_name_6['date'] == ...  \n",
       "57505  result = table_name_23[table_name_23['time_ret...  \n",
       "57506  result = table_name_22[table_name_22['team'] =...  \n",
       "57507  result = table_name_17[table_name_17['car_no']...  \n",
       "57508  result = table_name_53[table_name_53['time_ret...  \n",
       "\n",
       "[57509 rows x 2 columns]"
      ]
     },
     "execution_count": 13,
     "metadata": {},
     "output_type": "execute_result"
    }
   ],
   "source": [
    "train"
   ]
  },
  {
   "cell_type": "code",
   "execution_count": 16,
   "metadata": {},
   "outputs": [
    {
     "name": "stdout",
     "output_type": "stream",
     "text": [
      "Maximum length of input: 57\n",
      "Maximum length of output: 33\n"
     ]
    }
   ],
   "source": [
    "# find maximum length of input\n",
    "max_length = train[\"Input\"].apply(lambda x: len(x.split())).max()\n",
    "print(\"Maximum length of input:\", max_length)\n",
    "# find maximum length of output\n",
    "max_length_output = train[\"Pandas Query\"].apply(lambda x: len(x.split())).max()\n",
    "print(\"Maximum length of output:\", max_length_output)"
   ]
  },
  {
   "cell_type": "code",
   "execution_count": 6,
   "metadata": {},
   "outputs": [],
   "source": [
    "test = pd.read_csv(path_test)"
   ]
  },
  {
   "cell_type": "code",
   "execution_count": 8,
   "metadata": {},
   "outputs": [
    {
     "name": "stdout",
     "output_type": "stream",
     "text": [
      "table: table_name_9 (races : int64 , series : object , podiums : object)\n",
      "question: What is the sum of Races, when Series is Toyota Racing Series, and when Podiums is greater than 3?\n",
      "==================\n",
      "result = table_name_9[table_name_9['series'] > 3][['sum(races)']]\n"
     ]
    }
   ],
   "source": [
    "num = 260\n",
    "input = test.iloc[num][\"Input\"]\n",
    "print(f\"{input}\")\n",
    "print(\"==================\")\n",
    "print(test.iloc[num][\"Pandas Query\"])"
   ]
  },
  {
   "cell_type": "code",
   "execution_count": 57,
   "metadata": {},
   "outputs": [
    {
     "data": {
      "text/html": [
       "<div>\n",
       "<style scoped>\n",
       "    .dataframe tbody tr th:only-of-type {\n",
       "        vertical-align: middle;\n",
       "    }\n",
       "\n",
       "    .dataframe tbody tr th {\n",
       "        vertical-align: top;\n",
       "    }\n",
       "\n",
       "    .dataframe thead th {\n",
       "        text-align: right;\n",
       "    }\n",
       "</style>\n",
       "<table border=\"1\" class=\"dataframe\">\n",
       "  <thead>\n",
       "    <tr style=\"text-align: right;\">\n",
       "      <th></th>\n",
       "      <th>Input</th>\n",
       "      <th>Pandas Query</th>\n",
       "    </tr>\n",
       "  </thead>\n",
       "  <tbody>\n",
       "    <tr>\n",
       "      <th>0</th>\n",
       "      <td>table: head (age : int64)\\nquestion: How many ...</td>\n",
       "      <td>count = head[head['age'] &gt; 56].shape[0]</td>\n",
       "    </tr>\n",
       "    <tr>\n",
       "      <th>1</th>\n",
       "      <td>table: head (name : object , born_state : obje...</td>\n",
       "      <td>result = head.sort_values(by='age', ascending=...</td>\n",
       "    </tr>\n",
       "    <tr>\n",
       "      <th>2</th>\n",
       "      <td>table: department (budget_in_billions : int64)...</td>\n",
       "      <td>result = department['budget_in_billions'].agg(...</td>\n",
       "    </tr>\n",
       "    <tr>\n",
       "      <th>3</th>\n",
       "      <td>table: department (num_employees : int64 , ran...</td>\n",
       "      <td>result = department[(department['num_employees...</td>\n",
       "    </tr>\n",
       "    <tr>\n",
       "      <th>4</th>\n",
       "      <td>table: head (name : object , born_state : obje...</td>\n",
       "      <td>result = head[head['born_state'] &gt; 'california...</td>\n",
       "    </tr>\n",
       "  </tbody>\n",
       "</table>\n",
       "</div>"
      ],
      "text/plain": [
       "                                               Input  \\\n",
       "0  table: head (age : int64)\\nquestion: How many ...   \n",
       "1  table: head (name : object , born_state : obje...   \n",
       "2  table: department (budget_in_billions : int64)...   \n",
       "3  table: department (num_employees : int64 , ran...   \n",
       "4  table: head (name : object , born_state : obje...   \n",
       "\n",
       "                                        Pandas Query  \n",
       "0            count = head[head['age'] > 56].shape[0]  \n",
       "1  result = head.sort_values(by='age', ascending=...  \n",
       "2  result = department['budget_in_billions'].agg(...  \n",
       "3  result = department[(department['num_employees...  \n",
       "4  result = head[head['born_state'] > 'california...  "
      ]
     },
     "execution_count": 57,
     "metadata": {},
     "output_type": "execute_result"
    }
   ],
   "source": [
    "test.head()"
   ]
  },
  {
   "cell_type": "code",
   "execution_count": 52,
   "metadata": {},
   "outputs": [],
   "source": [
    "import re\n",
    "\n",
    "def clean_schema(text):\n",
    "    \"\"\"Convert schema format from 'Table Name: table (field (type))' to 'table: table (field : type)'\"\"\"\n",
    "    \n",
    "    # 1. Normalize the table name prefix\n",
    "    text = text.strip().replace(\"Table Name:\", \"table:\")\n",
    "    \n",
    "    # 2. Replace all (type) with : type\n",
    "    text = re.sub(r'(\\w+)\\s*\\(\\s*(\\w+)\\s*\\)', r'\\1 : \\2', text)\n",
    "    \n",
    "    # 3. Fix spacing around commas\n",
    "    text = re.sub(r'\\s*,\\s*', ' , ', text)\n",
    "    \n",
    "    return text"
   ]
  },
  {
   "cell_type": "code",
   "execution_count": 53,
   "metadata": {},
   "outputs": [
    {
     "name": "stdout",
     "output_type": "stream",
     "text": [
      "table: department (creation : object , department_id : object)\n"
     ]
    }
   ],
   "source": [
    "input_text = \"Table Name: department (creation (object) , department_id (object))\"\n",
    "output_text = clean_schema(input_text)\n",
    "print(output_text)\n",
    "# Output: \"table: department (creation : object , department_id : object)\""
   ]
  },
  {
   "cell_type": "code",
   "execution_count": 9,
   "metadata": {},
   "outputs": [],
   "source": [
    "# results"
   ]
  },
  {
   "cell_type": "code",
   "execution_count": 3,
   "metadata": {},
   "outputs": [],
   "source": [
    "result_path = '../results/eval_predictions.csv'\n",
    "results = pd.read_csv(result_path)\n"
   ]
  },
  {
   "cell_type": "code",
   "execution_count": 4,
   "metadata": {},
   "outputs": [
    {
     "name": "stdout",
     "output_type": "stream",
     "text": [
      "result = table_name_89[table_name_89['name'] > 2005][['sum(version)']]\n",
      "==================\n",
      "result = from[from['name'] > 2005][['sum(version)']]\n"
     ]
    }
   ],
   "source": [
    "num = 5\n",
    "input = results.iloc[num][\"Ground_Truth\"]\n",
    "print(f\"{input}\")\n",
    "print(\"==================\")\n",
    "print(results.iloc[num][\"Prediction\"])"
   ]
  },
  {
   "cell_type": "code",
   "execution_count": null,
   "metadata": {},
   "outputs": [],
   "source": []
  }
 ],
 "metadata": {
  "language_info": {
   "name": "python"
  }
 },
 "nbformat": 4,
 "nbformat_minor": 2
}
